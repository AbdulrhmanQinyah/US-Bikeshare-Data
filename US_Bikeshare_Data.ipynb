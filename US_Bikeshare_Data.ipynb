{
  "nbformat": 4,
  "nbformat_minor": 0,
  "metadata": {
    "colab": {
      "name": "US-Bikeshare-Data.ipynb",
      "provenance": [],
      "toc_visible": true
    },
    "kernelspec": {
      "name": "python3",
      "display_name": "Python 3"
    }
  },
  "cells": [
    {
      "cell_type": "markdown",
      "metadata": {
        "id": "sREcCTTP-qC1",
        "colab_type": "text"
      },
      "source": [
        "**Uploading the data to google colab**\n",
        "\n"
      ]
    },
    {
      "cell_type": "code",
      "metadata": {
        "id": "IcOPcSva-ni_",
        "colab_type": "code",
        "colab": {
          "resources": {
            "http://localhost:8080/nbextensions/google.colab/files.js": {
              "data": "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",
              "ok": true,
              "headers": [
                [
                  "content-type",
                  "application/javascript"
                ]
              ],
              "status": 200,
              "status_text": ""
            }
          },
          "base_uri": "https://localhost:8080/",
          "height": 41
        },
        "outputId": "e68fa529-4916-4635-bee9-fb6c12b35678"
      },
      "source": [
        "from google.colab import files\n",
        "\n",
        "uploaded = files.upload()\n",
        "\n",
        "for fn in uploaded.keys():\n",
        "  print('User uploaded file \"{name}\" with length {length} bytes'.format(\n",
        "      name=fn, length=len(uploaded[fn])))"
      ],
      "execution_count": 4,
      "outputs": [
        {
          "output_type": "display_data",
          "data": {
            "text/html": [
              "\n",
              "     <input type=\"file\" id=\"files-4bdd947c-4f92-4893-bd89-91d07512a523\" name=\"files[]\" multiple disabled />\n",
              "     <output id=\"result-4bdd947c-4f92-4893-bd89-91d07512a523\">\n",
              "      Upload widget is only available when the cell has been executed in the\n",
              "      current browser session. Please rerun this cell to enable.\n",
              "      </output>\n",
              "      <script src=\"/nbextensions/google.colab/files.js\"></script> "
            ],
            "text/plain": [
              "<IPython.core.display.HTML object>"
            ]
          },
          "metadata": {
            "tags": []
          }
        }
      ]
    },
    {
      "cell_type": "markdown",
      "metadata": {
        "id": "05W7ACHfD64S",
        "colab_type": "text"
      },
      "source": [
        "**Importing the needed libraries**"
      ]
    },
    {
      "cell_type": "code",
      "metadata": {
        "id": "jwBzBqUqEXy2",
        "colab_type": "code",
        "colab": {}
      },
      "source": [
        "import time\n",
        "import pandas as pd\n",
        "import numpy as np\n",
        "import datetime\n",
        "\n",
        "\n",
        "CITY_DATA = { 'chicago': '/content/chicago.csv',\n",
        "              'new york city': '/content/new_york_city.csv',\n",
        "              'washington': '/content/washington.csv' }"
      ],
      "execution_count": 0,
      "outputs": []
    },
    {
      "cell_type": "markdown",
      "metadata": {
        "id": "ExGqLZCAEah5",
        "colab_type": "text"
      },
      "source": [
        "Asking the user to specify a city, month, and day to analyze\n"
      ]
    },
    {
      "cell_type": "code",
      "metadata": {
        "id": "QVSK3CCVEfCM",
        "colab_type": "code",
        "colab": {}
      },
      "source": [
        "def get_filters():\n",
        "    \"\"\"\n",
        "    Asks user to specify a city, month, and day to analyze.\n",
        "    Returns:\n",
        "        (str) city - name of the city to analyze\n",
        "        (str) month - name of the month to filter by, or \"all\" to apply no month filter\n",
        "        (str) day - name of the day of week to filter by, or \"all\" to apply no day filter\n",
        "    \"\"\"\n",
        "\n",
        "    print('Hello! Let\\'s explore some US bikeshare data!')\n",
        "    cities = [\"chicago\", \"new york city\", \"washington\"]\n",
        "    months = [\"january\", \"february\", \"march\", \"aprill\", \"may\", \"june\", \"july\", \"august\", \"septembe\", \"october\", \"november\", \"december\", \"all\"]\n",
        "    days = [\"sunday\", \"monday\", \"tuesday\", \"wednesday\", \"thursday\", \"friday\", \"saturday\", \"all\"]\n",
        "    \n",
        "    while True:\n",
        "        city = input('Enter the City you want to analyze: ')\n",
        "        if (city.lower() in cities):\n",
        "            break\n",
        "        else:\n",
        "            print('invalid input, you must enter one of the cities')\n",
        "        \n",
        "   \n",
        "    while True:\n",
        "        month = input('Enter the Month you want to analyze: ')\n",
        "        if(month.lower() in months):\n",
        "            break\n",
        "        else:\n",
        "            print('invalid input, you must enter one of the months')\n",
        "    \n",
        "    \n",
        "    \n",
        "    while True:\n",
        "        day = input('Enter the Day you want to analyze: ')\n",
        "        if(day.lower() in days):\n",
        "            break\n",
        "        else:\n",
        "            print('invalid input, you must enter one of the days')\n",
        "       \n",
        "\n",
        "    print('-'*40)\n",
        "    return city, month, day"
      ],
      "execution_count": 0,
      "outputs": []
    },
    {
      "cell_type": "markdown",
      "metadata": {
        "id": "ARIT-QmmFGM-",
        "colab_type": "text"
      },
      "source": [
        "Loads data for the specified city and filters by month and day if applicable"
      ]
    },
    {
      "cell_type": "code",
      "metadata": {
        "id": "_FJpUptYFEWk",
        "colab_type": "code",
        "colab": {}
      },
      "source": [
        "\n",
        "def load_data(city, month, day):\n",
        "    \"\"\"\n",
        "    Loads data for the specified city and filters by month and day if applicable.\n",
        "    Args:\n",
        "        (str) city - name of the city to analyze\n",
        "        (str) month - name of the month to filter by, or \"all\" to apply no month filter\n",
        "        (str) day - name of the day of week to filter by, or \"all\" to apply no day filter\n",
        "    Returns:\n",
        "        df - Pandas DataFrame containing city data filtered by month and day\n",
        "    \"\"\"\n",
        "    if city == 'chicago':\n",
        "        df = pd.read_csv('chicago.csv')\n",
        "    elif city == 'new york city':\n",
        "        df = pd.read_csv('new_york_city.csv')\n",
        "    else:\n",
        "        df = pd.read_csv('washington.csv')\n",
        "        \n",
        "    df['Start Time'] = pd.to_datetime(df['Start Time'])\n",
        "\n",
        "    df['month'] = df['Start Time'].dt.month\n",
        "    df['day_of_week'] = df['Start Time'].dt.weekday_name\n",
        "    \n",
        "    if month != 'all':\n",
        "        months = [\"january\", \"february\", \"march\", \"aprill\", \"may\", \"june\", \"july\", \"august\", \"septembe\", \"october\", \"november\", \"december\"]\n",
        "        month = months.index(month) + 1\n",
        "\n",
        "        df = df[df['month'] == month]\n",
        "\n",
        "    if day != 'all':\n",
        "        df = df[df['day_of_week'] == day.title()]\n",
        "\n",
        "        \n",
        "    return df"
      ],
      "execution_count": 0,
      "outputs": []
    },
    {
      "cell_type": "markdown",
      "metadata": {
        "id": "WQyoF1zeFf7D",
        "colab_type": "text"
      },
      "source": [
        "Displays statistics on the most frequent times of travel"
      ]
    },
    {
      "cell_type": "code",
      "metadata": {
        "id": "zYef4ThbFhhW",
        "colab_type": "code",
        "colab": {}
      },
      "source": [
        "def time_stats(df):\n",
        "    \"\"\"Displays statistics on the most frequent times of travel.\"\"\"\n",
        "\n",
        "    print('\\nCalculating The Most Frequent Times of Travel...\\n')\n",
        "    start_time = time.time()\n",
        "\n",
        "    most_common_month = df['month'].value_counts().index[0]\n",
        "    print(\"most common month is: {}\".format('most_common_month'))\n",
        "    print('-'*20)\n",
        "    \n",
        "    most_common_day = df['day_of_week'].value_counts().index[0]\n",
        "    print(\"most common day is: {} \".format(most_common_day))\n",
        "    print('-'*20)\n",
        "    \n",
        "    most_common_startHour = df['Start Time'].dt.hour.value_counts().index[0]\n",
        "    print(\"most common start hour is: {}\".format(most_common_startHour))\n",
        "    print('-'*20)\n",
        "    \n",
        "\n",
        "    print(\"\\nThis took %s seconds.\" % (time.time() - start_time))\n",
        "    print('-'*40)"
      ],
      "execution_count": 0,
      "outputs": []
    },
    {
      "cell_type": "markdown",
      "metadata": {
        "id": "mmWSgHneGEGq",
        "colab_type": "text"
      },
      "source": [
        "Displays statistics on the most popular stations and trip"
      ]
    },
    {
      "cell_type": "code",
      "metadata": {
        "id": "UM_lpeutGEwJ",
        "colab_type": "code",
        "colab": {}
      },
      "source": [
        "def station_stats(df):\n",
        "    \"\"\"Displays statistics on the most popular stations and trip.\"\"\"\n",
        "\n",
        "    print('\\nCalculating The Most Popular Stations and Trip...\\n')\n",
        "    start_time = time.time()\n",
        "\n",
        "    most_common_startStation = df['Start Station'].value_counts().index[0]\n",
        "    print(\"most common start station is: {}\".format(most_common_startStation))\n",
        "    print('-'*20)\n",
        "    \n",
        "    \n",
        "    most_common_endStation = df['End Station'].value_counts().index[0]\n",
        "    print(\"most common end station is: {}\".format(most_common_endStation))\n",
        "    print('-'*20)\n",
        "    \n",
        "    \n",
        "    df['Start & End Station'] = df['Start Station'] + \"-\" + df['End Station']\n",
        "    most_common_startEndStation = df['Start & End Station'].value_counts().index[0]\n",
        "    print(\"most common start and end station is: {}\".format(most_common_startEndStation))\n",
        "    print('-'*20)\n",
        "    \n",
        "    \n",
        "    print(\"\\nThis took %s seconds.\" % (time.time() - start_time))\n",
        "    print('-'*40)\n"
      ],
      "execution_count": 0,
      "outputs": []
    },
    {
      "cell_type": "markdown",
      "metadata": {
        "id": "gKZ8NNOXGVTN",
        "colab_type": "text"
      },
      "source": [
        "Displays statistics on the total and average trip duration."
      ]
    },
    {
      "cell_type": "code",
      "metadata": {
        "id": "SwGB-cKKGMCt",
        "colab_type": "code",
        "colab": {}
      },
      "source": [
        "\n",
        "def trip_duration_stats(df):\n",
        "    \"\"\"Displays statistics on the total and average trip duration.\"\"\"\n",
        "\n",
        "    print('\\nCalculating Trip Duration...\\n')\n",
        "    start_time = time.time()\n",
        "\n",
        "    total = datetime.timedelta(seconds=int(df['Trip Duration'].sum()))\n",
        "    print(\" the total trip duration is: {}\".format(total))\n",
        "    print('-'*20)\n",
        "\n",
        "    mean = datetime.timedelta(seconds=int(df['Trip Duration'].mean()))\n",
        "    print(\"The avrage trip duration is: {}\".format(mean))\n",
        "    print('-'*20)\n",
        "    \n",
        "\n",
        "    print(\"\\nThis took %s seconds.\" % (time.time() - start_time))\n",
        "    print('-'*40)\n"
      ],
      "execution_count": 0,
      "outputs": []
    },
    {
      "cell_type": "markdown",
      "metadata": {
        "id": "ps6YNQGDGa3K",
        "colab_type": "text"
      },
      "source": [
        "Displays statistics on bikeshare users"
      ]
    },
    {
      "cell_type": "code",
      "metadata": {
        "id": "dYpFseBpGbxc",
        "colab_type": "code",
        "colab": {}
      },
      "source": [
        "def user_stats(df):\n",
        "    \"\"\"Displays statistics on bikeshare users.\"\"\"\n",
        "\n",
        "    print('\\nCalculating User Stats...\\n')\n",
        "    start_time = time.time()\n",
        "\n",
        "    number_of_users = df['User Type'].value_counts()\n",
        "    print(\"nomber of uses is: {}\".format(number_of_users))\n",
        "    try:\n",
        "        print(df['Gender'].value_counts())\n",
        "    except:\n",
        "        print('Data does not include genders')\n",
        "    \n",
        "    try:\n",
        "        earliest_year = df['Birth Year'].min()\n",
        "        most_recent_uear = df['Birth Year'].max()\n",
        "        most_common_year = df['Birth Year'].value_count().index[0]\n",
        "        print(earliest_year, most_recent_uear, most_common_year)\n",
        "    except:\n",
        "        print('Data does not include date of birth')\n",
        "        \n",
        "\n",
        "    print(\"\\nThis took %s seconds.\" % (time.time() - start_time))\n",
        "    print('-'*40)\n"
      ],
      "execution_count": 0,
      "outputs": []
    },
    {
      "cell_type": "code",
      "metadata": {
        "id": "wcaBv7dvGlTC",
        "colab_type": "code",
        "colab": {
          "base_uri": "https://localhost:8080/",
          "height": 1000
        },
        "outputId": "15468e9a-d971-4485-abee-b9dc501ee74d"
      },
      "source": [
        "\n",
        "while True:\n",
        "\n",
        "\n",
        "  city, month, day = get_filters()\n",
        "  df = load_data(city, month, day)\n",
        "\n",
        "  time_stats(df)\n",
        "  station_stats(df)\n",
        "  trip_duration_stats(df)\n",
        "  user_stats(df)\n",
        "  show_more = 'yes'\n",
        "  while show_more == 'yes':\n",
        "      for i in df.iterrows():\n",
        "          count = 0\n",
        "          while count < 5:\n",
        "              print(i)\n",
        "              count += 1\n",
        "          response = input('\\nView 5 more data entries? Yes or No?\\n')\n",
        "          if response.lower() == 'no':\n",
        "              show_more = 'no'\n",
        "              break\n",
        "\n",
        "  restart = input('\\nWould you like to restart? Enter yes or no.\\n')\n",
        "  if restart.lower() != 'yes':\n",
        "      break\n",
        "            \n"
      ],
      "execution_count": 39,
      "outputs": [
        {
          "output_type": "stream",
          "text": [
            "Hello! Let's explore some US bikeshare data!\n",
            "Enter the City you want to analyze: chicago\n",
            "Enter the Month you want to analyze: all\n",
            "Enter the Day you want to analyze: all\n",
            "----------------------------------------\n",
            "\n",
            "Calculating The Most Frequent Times of Travel...\n",
            "\n",
            "most common month is: most_common_month\n",
            "--------------------\n",
            "most common day is: Tuesday \n",
            "--------------------\n",
            "most common start hour is: 17\n",
            "--------------------\n",
            "\n",
            "This took 0.08736538887023926 seconds.\n",
            "----------------------------------------\n",
            "\n",
            "Calculating The Most Popular Stations and Trip...\n",
            "\n",
            "most common start station is: Streeter Dr & Grand Ave\n",
            "--------------------\n",
            "most common end station is: Streeter Dr & Grand Ave\n",
            "--------------------\n",
            "most common start and end station is: Lake Shore Dr & Monroe St-Streeter Dr & Grand Ave\n",
            "--------------------\n",
            "\n",
            "This took 0.2627089023590088 seconds.\n",
            "----------------------------------------\n",
            "\n",
            "Calculating Trip Duration...\n",
            "\n",
            " the total trip duration is: 3250 days, 19:56:27\n",
            "--------------------\n",
            "The avrage trip duration is: 0:15:36\n",
            "--------------------\n",
            "\n",
            "This took 0.0018265247344970703 seconds.\n",
            "----------------------------------------\n",
            "\n",
            "Calculating User Stats...\n",
            "\n",
            "nomber of uses is: Subscriber    238889\n",
            "Customer       61110\n",
            "Dependent          1\n",
            "Name: User Type, dtype: int64\n",
            "Male      181190\n",
            "Female     57758\n",
            "Name: Gender, dtype: int64\n",
            "Data does not include date of birth\n",
            "\n",
            "This took 0.06359291076660156 seconds.\n",
            "----------------------------------------\n",
            "(0, Unnamed: 0                                                  1423854\n",
            "Start Time                                      2017-06-23 15:09:32\n",
            "End Time                                        2017-06-23 15:14:53\n",
            "Trip Duration                                                   321\n",
            "Start Station                                  Wood St & Hubbard St\n",
            "End Station                                 Damen Ave & Chicago Ave\n",
            "User Type                                                Subscriber\n",
            "Gender                                                         Male\n",
            "Birth Year                                                     1992\n",
            "month                                                             6\n",
            "day_of_week                                                  Friday\n",
            "Start & End Station    Wood St & Hubbard St-Damen Ave & Chicago Ave\n",
            "Name: 0, dtype: object)\n",
            "(0, Unnamed: 0                                                  1423854\n",
            "Start Time                                      2017-06-23 15:09:32\n",
            "End Time                                        2017-06-23 15:14:53\n",
            "Trip Duration                                                   321\n",
            "Start Station                                  Wood St & Hubbard St\n",
            "End Station                                 Damen Ave & Chicago Ave\n",
            "User Type                                                Subscriber\n",
            "Gender                                                         Male\n",
            "Birth Year                                                     1992\n",
            "month                                                             6\n",
            "day_of_week                                                  Friday\n",
            "Start & End Station    Wood St & Hubbard St-Damen Ave & Chicago Ave\n",
            "Name: 0, dtype: object)\n",
            "(0, Unnamed: 0                                                  1423854\n",
            "Start Time                                      2017-06-23 15:09:32\n",
            "End Time                                        2017-06-23 15:14:53\n",
            "Trip Duration                                                   321\n",
            "Start Station                                  Wood St & Hubbard St\n",
            "End Station                                 Damen Ave & Chicago Ave\n",
            "User Type                                                Subscriber\n",
            "Gender                                                         Male\n",
            "Birth Year                                                     1992\n",
            "month                                                             6\n",
            "day_of_week                                                  Friday\n",
            "Start & End Station    Wood St & Hubbard St-Damen Ave & Chicago Ave\n",
            "Name: 0, dtype: object)\n",
            "(0, Unnamed: 0                                                  1423854\n",
            "Start Time                                      2017-06-23 15:09:32\n",
            "End Time                                        2017-06-23 15:14:53\n",
            "Trip Duration                                                   321\n",
            "Start Station                                  Wood St & Hubbard St\n",
            "End Station                                 Damen Ave & Chicago Ave\n",
            "User Type                                                Subscriber\n",
            "Gender                                                         Male\n",
            "Birth Year                                                     1992\n",
            "month                                                             6\n",
            "day_of_week                                                  Friday\n",
            "Start & End Station    Wood St & Hubbard St-Damen Ave & Chicago Ave\n",
            "Name: 0, dtype: object)\n",
            "(0, Unnamed: 0                                                  1423854\n",
            "Start Time                                      2017-06-23 15:09:32\n",
            "End Time                                        2017-06-23 15:14:53\n",
            "Trip Duration                                                   321\n",
            "Start Station                                  Wood St & Hubbard St\n",
            "End Station                                 Damen Ave & Chicago Ave\n",
            "User Type                                                Subscriber\n",
            "Gender                                                         Male\n",
            "Birth Year                                                     1992\n",
            "month                                                             6\n",
            "day_of_week                                                  Friday\n",
            "Start & End Station    Wood St & Hubbard St-Damen Ave & Chicago Ave\n",
            "Name: 0, dtype: object)\n",
            "\n",
            "View 5 more data entries? Yes or No?\n",
            "Yes\n",
            "(1, Unnamed: 0                                                       955915\n",
            "Start Time                                          2017-05-25 18:19:03\n",
            "End Time                                            2017-05-25 18:45:53\n",
            "Trip Duration                                                      1610\n",
            "Start Station                                       Theater on the Lake\n",
            "End Station                                Sheffield Ave & Waveland Ave\n",
            "User Type                                                    Subscriber\n",
            "Gender                                                           Female\n",
            "Birth Year                                                         1992\n",
            "month                                                                 5\n",
            "day_of_week                                                    Thursday\n",
            "Start & End Station    Theater on the Lake-Sheffield Ave & Waveland Ave\n",
            "Name: 1, dtype: object)\n",
            "(1, Unnamed: 0                                                       955915\n",
            "Start Time                                          2017-05-25 18:19:03\n",
            "End Time                                            2017-05-25 18:45:53\n",
            "Trip Duration                                                      1610\n",
            "Start Station                                       Theater on the Lake\n",
            "End Station                                Sheffield Ave & Waveland Ave\n",
            "User Type                                                    Subscriber\n",
            "Gender                                                           Female\n",
            "Birth Year                                                         1992\n",
            "month                                                                 5\n",
            "day_of_week                                                    Thursday\n",
            "Start & End Station    Theater on the Lake-Sheffield Ave & Waveland Ave\n",
            "Name: 1, dtype: object)\n",
            "(1, Unnamed: 0                                                       955915\n",
            "Start Time                                          2017-05-25 18:19:03\n",
            "End Time                                            2017-05-25 18:45:53\n",
            "Trip Duration                                                      1610\n",
            "Start Station                                       Theater on the Lake\n",
            "End Station                                Sheffield Ave & Waveland Ave\n",
            "User Type                                                    Subscriber\n",
            "Gender                                                           Female\n",
            "Birth Year                                                         1992\n",
            "month                                                                 5\n",
            "day_of_week                                                    Thursday\n",
            "Start & End Station    Theater on the Lake-Sheffield Ave & Waveland Ave\n",
            "Name: 1, dtype: object)\n",
            "(1, Unnamed: 0                                                       955915\n",
            "Start Time                                          2017-05-25 18:19:03\n",
            "End Time                                            2017-05-25 18:45:53\n",
            "Trip Duration                                                      1610\n",
            "Start Station                                       Theater on the Lake\n",
            "End Station                                Sheffield Ave & Waveland Ave\n",
            "User Type                                                    Subscriber\n",
            "Gender                                                           Female\n",
            "Birth Year                                                         1992\n",
            "month                                                                 5\n",
            "day_of_week                                                    Thursday\n",
            "Start & End Station    Theater on the Lake-Sheffield Ave & Waveland Ave\n",
            "Name: 1, dtype: object)\n",
            "(1, Unnamed: 0                                                       955915\n",
            "Start Time                                          2017-05-25 18:19:03\n",
            "End Time                                            2017-05-25 18:45:53\n",
            "Trip Duration                                                      1610\n",
            "Start Station                                       Theater on the Lake\n",
            "End Station                                Sheffield Ave & Waveland Ave\n",
            "User Type                                                    Subscriber\n",
            "Gender                                                           Female\n",
            "Birth Year                                                         1992\n",
            "month                                                                 5\n",
            "day_of_week                                                    Thursday\n",
            "Start & End Station    Theater on the Lake-Sheffield Ave & Waveland Ave\n",
            "Name: 1, dtype: object)\n",
            "\n",
            "View 5 more data entries? Yes or No?\n",
            "No\n",
            "\n",
            "Would you like to restart? Enter yes or no.\n",
            "no\n"
          ],
          "name": "stdout"
        }
      ]
    }
  ]
}